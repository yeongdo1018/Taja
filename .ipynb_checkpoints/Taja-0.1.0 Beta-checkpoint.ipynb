{
 "cells": [
  {
   "cell_type": "code",
   "execution_count": 5,
   "id": "eb8a8a96",
   "metadata": {},
   "outputs": [],
   "source": [
    "# Taja 0.1.0 Beta"
   ]
  },
  {
   "cell_type": "code",
   "execution_count": 6,
   "id": "0ae9d113",
   "metadata": {},
   "outputs": [],
   "source": [
    "from time import sleep"
   ]
  },
  {
   "cell_type": "code",
   "execution_count": 7,
   "id": "9c3f8a2c",
   "metadata": {},
   "outputs": [],
   "source": [
    "def start():\n",
    "    print(\"Taja\")\n",
    "    sleep(3)\n",
    "    print(\"Loading...\")"
   ]
  },
  {
   "cell_type": "code",
   "execution_count": 8,
   "id": "b2c29039",
   "metadata": {},
   "outputs": [
    {
     "name": "stdout",
     "output_type": "stream",
     "text": [
      "Taja\n",
      "Loading...\n"
     ]
    }
   ],
   "source": [
    "if __name__ == '__main__':\n",
    "    start()"
   ]
  }
 ],
 "metadata": {
  "kernelspec": {
   "display_name": "Python 3 (ipykernel)",
   "language": "python",
   "name": "python3"
  },
  "language_info": {
   "codemirror_mode": {
    "name": "ipython",
    "version": 3
   },
   "file_extension": ".py",
   "mimetype": "text/x-python",
   "name": "python",
   "nbconvert_exporter": "python",
   "pygments_lexer": "ipython3",
   "version": "3.11.4"
  }
 },
 "nbformat": 4,
 "nbformat_minor": 5
}
